{
 "cells": [
  {
   "cell_type": "code",
   "execution_count": 7,
   "id": "9fa54436",
   "metadata": {},
   "outputs": [],
   "source": [
    "import pandas as pd\n",
    "import numpy as np\n",
    "from matplotlib import pyplot as plt\n"
   ]
  },
  {
   "cell_type": "code",
   "execution_count": 9,
   "id": "9cd7acc1",
   "metadata": {},
   "outputs": [
    {
     "data": {
      "text/plain": [
       "0    22\n",
       "1    35\n",
       "2    58\n",
       "Name: Age, dtype: int64"
      ]
     },
     "execution_count": 9,
     "metadata": {},
     "output_type": "execute_result"
    }
   ],
   "source": [
    "# Data frame\n",
    "df = pd.DataFrame(\n",
    "    {\n",
    "        \"Name\": [\n",
    "            \"Braund, Mr. Owen Harris\",\n",
    "            \"Allen, Mr. William Henry\",\n",
    "            \"Bonnell, Miss. Elizabeth\",\n",
    "        ],\n",
    "        \"Age\": [22, 35, 58],\n",
    "        \"Sex\": [\"male\", \"male\", \"female\"],\n",
    "    }\n",
    ")\n",
    "\n",
    "df.head()\n",
    "df.tail(2)\n",
    "df[\"Age\"]"
   ]
  },
  {
   "cell_type": "code",
   "execution_count": 12,
   "id": "7583e058",
   "metadata": {},
   "outputs": [
    {
     "data": {
      "text/plain": [
       "count       4.000000\n",
       "mean     3197.500000\n",
       "std      1814.393838\n",
       "min      1100.000000\n",
       "25%      2000.000000\n",
       "50%      3345.000000\n",
       "75%      4542.500000\n",
       "max      5000.000000\n",
       "Name: Bank Accounts, dtype: float64"
      ]
     },
     "execution_count": 12,
     "metadata": {},
     "output_type": "execute_result"
    }
   ],
   "source": [
    "bank_account = pd.Series([2300, 4390, 5000, 1100], name=\"Bank Accounts\")\n",
    "bank_account.describe()"
   ]
  },
  {
   "cell_type": "code",
   "execution_count": 13,
   "id": "31d0d66b",
   "metadata": {},
   "outputs": [
    {
     "data": {
      "text/html": [
       "<div>\n",
       "<style scoped>\n",
       "    .dataframe tbody tr th:only-of-type {\n",
       "        vertical-align: middle;\n",
       "    }\n",
       "\n",
       "    .dataframe tbody tr th {\n",
       "        vertical-align: top;\n",
       "    }\n",
       "\n",
       "    .dataframe thead th {\n",
       "        text-align: right;\n",
       "    }\n",
       "</style>\n",
       "<table border=\"1\" class=\"dataframe\">\n",
       "  <thead>\n",
       "    <tr style=\"text-align: right;\">\n",
       "      <th></th>\n",
       "      <th>user_id</th>\n",
       "      <th>age</th>\n",
       "      <th>gender</th>\n",
       "      <th>occupation</th>\n",
       "      <th>work_mode</th>\n",
       "      <th>screen_time_hours</th>\n",
       "      <th>work_screen_hours</th>\n",
       "      <th>leisure_screen_hours</th>\n",
       "      <th>sleep_hours</th>\n",
       "      <th>sleep_quality_1_5</th>\n",
       "      <th>stress_level_0_10</th>\n",
       "      <th>productivity_0_100</th>\n",
       "      <th>exercise_minutes_per_week</th>\n",
       "      <th>social_hours_per_week</th>\n",
       "      <th>mental_wellness_index_0_100</th>\n",
       "      <th>Unnamed: 15</th>\n",
       "    </tr>\n",
       "  </thead>\n",
       "  <tbody>\n",
       "    <tr>\n",
       "      <th>0</th>\n",
       "      <td>U0001</td>\n",
       "      <td>33</td>\n",
       "      <td>Female</td>\n",
       "      <td>Employed</td>\n",
       "      <td>Remote</td>\n",
       "      <td>10.79</td>\n",
       "      <td>5.44</td>\n",
       "      <td>5.35</td>\n",
       "      <td>6.63</td>\n",
       "      <td>1</td>\n",
       "      <td>9.3</td>\n",
       "      <td>44.7</td>\n",
       "      <td>127</td>\n",
       "      <td>0.7</td>\n",
       "      <td>9.3</td>\n",
       "      <td>NaN</td>\n",
       "    </tr>\n",
       "    <tr>\n",
       "      <th>1</th>\n",
       "      <td>U0002</td>\n",
       "      <td>28</td>\n",
       "      <td>Female</td>\n",
       "      <td>Employed</td>\n",
       "      <td>In-person</td>\n",
       "      <td>7.40</td>\n",
       "      <td>0.37</td>\n",
       "      <td>7.03</td>\n",
       "      <td>8.05</td>\n",
       "      <td>3</td>\n",
       "      <td>5.7</td>\n",
       "      <td>78.0</td>\n",
       "      <td>74</td>\n",
       "      <td>2.1</td>\n",
       "      <td>56.2</td>\n",
       "      <td>NaN</td>\n",
       "    </tr>\n",
       "    <tr>\n",
       "      <th>2</th>\n",
       "      <td>U0003</td>\n",
       "      <td>35</td>\n",
       "      <td>Female</td>\n",
       "      <td>Employed</td>\n",
       "      <td>Hybrid</td>\n",
       "      <td>9.78</td>\n",
       "      <td>1.09</td>\n",
       "      <td>8.69</td>\n",
       "      <td>6.48</td>\n",
       "      <td>1</td>\n",
       "      <td>9.1</td>\n",
       "      <td>51.8</td>\n",
       "      <td>67</td>\n",
       "      <td>8.0</td>\n",
       "      <td>3.6</td>\n",
       "      <td>NaN</td>\n",
       "    </tr>\n",
       "    <tr>\n",
       "      <th>3</th>\n",
       "      <td>U0004</td>\n",
       "      <td>42</td>\n",
       "      <td>Male</td>\n",
       "      <td>Employed</td>\n",
       "      <td>Hybrid</td>\n",
       "      <td>11.13</td>\n",
       "      <td>0.56</td>\n",
       "      <td>10.57</td>\n",
       "      <td>6.89</td>\n",
       "      <td>1</td>\n",
       "      <td>10.0</td>\n",
       "      <td>37.0</td>\n",
       "      <td>0</td>\n",
       "      <td>5.7</td>\n",
       "      <td>0.0</td>\n",
       "      <td>NaN</td>\n",
       "    </tr>\n",
       "    <tr>\n",
       "      <th>4</th>\n",
       "      <td>U0005</td>\n",
       "      <td>28</td>\n",
       "      <td>Male</td>\n",
       "      <td>Student</td>\n",
       "      <td>Remote</td>\n",
       "      <td>13.22</td>\n",
       "      <td>4.09</td>\n",
       "      <td>9.13</td>\n",
       "      <td>5.79</td>\n",
       "      <td>1</td>\n",
       "      <td>10.0</td>\n",
       "      <td>38.5</td>\n",
       "      <td>143</td>\n",
       "      <td>10.1</td>\n",
       "      <td>0.0</td>\n",
       "      <td>NaN</td>\n",
       "    </tr>\n",
       "  </tbody>\n",
       "</table>\n",
       "</div>"
      ],
      "text/plain": [
       "  user_id  age  gender occupation  work_mode  screen_time_hours  \\\n",
       "0   U0001   33  Female   Employed     Remote              10.79   \n",
       "1   U0002   28  Female   Employed  In-person               7.40   \n",
       "2   U0003   35  Female   Employed     Hybrid               9.78   \n",
       "3   U0004   42    Male   Employed     Hybrid              11.13   \n",
       "4   U0005   28    Male    Student     Remote              13.22   \n",
       "\n",
       "   work_screen_hours  leisure_screen_hours  sleep_hours  sleep_quality_1_5  \\\n",
       "0               5.44                  5.35         6.63                  1   \n",
       "1               0.37                  7.03         8.05                  3   \n",
       "2               1.09                  8.69         6.48                  1   \n",
       "3               0.56                 10.57         6.89                  1   \n",
       "4               4.09                  9.13         5.79                  1   \n",
       "\n",
       "   stress_level_0_10  productivity_0_100  exercise_minutes_per_week  \\\n",
       "0                9.3                44.7                        127   \n",
       "1                5.7                78.0                         74   \n",
       "2                9.1                51.8                         67   \n",
       "3               10.0                37.0                          0   \n",
       "4               10.0                38.5                        143   \n",
       "\n",
       "   social_hours_per_week  mental_wellness_index_0_100  Unnamed: 15  \n",
       "0                    0.7                          9.3          NaN  \n",
       "1                    2.1                         56.2          NaN  \n",
       "2                    8.0                          3.6          NaN  \n",
       "3                    5.7                          0.0          NaN  \n",
       "4                   10.1                          0.0          NaN  "
      ]
     },
     "execution_count": 13,
     "metadata": {},
     "output_type": "execute_result"
    }
   ],
   "source": [
    "screentime_data = pd.read_csv(\"screentime.csv\")\n",
    "screentime_data.head()"
   ]
  },
  {
   "cell_type": "markdown",
   "id": "1f571831",
   "metadata": {},
   "source": [
    "- 3 câu hỏi thống kê dữ liệu định lượng:\n",
    "    - Có bao nhiêu người trong này là người đi làm?\n",
    "    - Số điểm trung bình của mental wellness index là bao nhiêu?\n",
    "    - Số giờ ngủ trung bình là bao nhiêu?\n",
    "- 3 câu hỏi thống kê dữ liệu định tính:\n",
    "    - Nghề nghiệp nào phổ biến nhất?"
   ]
  },
  {
   "cell_type": "code",
   "execution_count": 15,
   "id": "951bbebc",
   "metadata": {},
   "outputs": [
    {
     "data": {
      "text/plain": [
       "count    400.000000\n",
       "mean       8.150500\n",
       "std        2.094844\n",
       "min        0.000000\n",
       "25%        6.900000\n",
       "50%        8.800000\n",
       "75%       10.000000\n",
       "max       10.000000\n",
       "Name: stress_level_0_10, dtype: float64"
      ]
     },
     "execution_count": 15,
     "metadata": {},
     "output_type": "execute_result"
    }
   ],
   "source": [
    "screentime_data[\"stress_level_0_10\"].describe()"
   ]
  }
 ],
 "metadata": {
  "kernelspec": {
   "display_name": "Python 3",
   "language": "python",
   "name": "python3"
  },
  "language_info": {
   "codemirror_mode": {
    "name": "ipython",
    "version": 3
   },
   "file_extension": ".py",
   "mimetype": "text/x-python",
   "name": "python",
   "nbconvert_exporter": "python",
   "pygments_lexer": "ipython3",
   "version": "3.13.1"
  }
 },
 "nbformat": 4,
 "nbformat_minor": 5
}
