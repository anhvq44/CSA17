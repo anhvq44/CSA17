{
 "cells": [
  {
   "cell_type": "markdown",
   "id": "9a054a59",
   "metadata": {},
   "source": [
    "## Yêu cầu 1: Tạo danh sách từ 1 đến 100\n",
    "- range() trả về 1 chuỗi số dưới dạng range object\n",
    "- Sử dụng list() để đổi range object thành 1 list"
   ]
  },
  {
   "cell_type": "code",
   "execution_count": 1,
   "id": "af5724cf",
   "metadata": {},
   "outputs": [],
   "source": [
    "nums_list = list(range(1, 101))"
   ]
  },
  {
   "cell_type": "markdown",
   "id": "0083484c",
   "metadata": {},
   "source": [
    "## Yêu cầu 2: Hàm tạo danh sách mới chỉ chứa số lẻ\n",
    "- Tạo 1 list rỗng trong hàm\n",
    "- Kiểm tra từng item trong list được cho\n",
    "- Nếu n%2 == 1 thì nghĩa là n là số lẻ, thêm n vào list được tạo trong hàm"
   ]
  },
  {
   "cell_type": "code",
   "execution_count": 3,
   "id": "b63dea8d",
   "metadata": {},
   "outputs": [
    {
     "data": {
      "text/plain": [
       "[1,\n",
       " 3,\n",
       " 5,\n",
       " 7,\n",
       " 9,\n",
       " 11,\n",
       " 13,\n",
       " 15,\n",
       " 17,\n",
       " 19,\n",
       " 21,\n",
       " 23,\n",
       " 25,\n",
       " 27,\n",
       " 29,\n",
       " 31,\n",
       " 33,\n",
       " 35,\n",
       " 37,\n",
       " 39,\n",
       " 41,\n",
       " 43,\n",
       " 45,\n",
       " 47,\n",
       " 49,\n",
       " 51,\n",
       " 53,\n",
       " 55,\n",
       " 57,\n",
       " 59,\n",
       " 61,\n",
       " 63,\n",
       " 65,\n",
       " 67,\n",
       " 69,\n",
       " 71,\n",
       " 73,\n",
       " 75,\n",
       " 77,\n",
       " 79,\n",
       " 81,\n",
       " 83,\n",
       " 85,\n",
       " 87,\n",
       " 89,\n",
       " 91,\n",
       " 93,\n",
       " 95,\n",
       " 97,\n",
       " 99]"
      ]
     },
     "execution_count": 3,
     "metadata": {},
     "output_type": "execute_result"
    }
   ],
   "source": [
    "def get_odd(nums_lst):\n",
    "    return [i for i in nums_list if i%2 == 1]\n",
    "\n",
    "get_odd(nums_list)"
   ]
  },
  {
   "cell_type": "markdown",
   "id": "49ea0838",
   "metadata": {},
   "source": [
    "## Yêu cầu 3: Tạo từ điển\n",
    "- Tạo loop lặp 10 lần, từ 1 đến 10\n",
    "- Tạo khóa mới cho mỗi số và để value là bình phương của số đấy"
   ]
  },
  {
   "cell_type": "code",
   "execution_count": 5,
   "id": "8584cac3",
   "metadata": {},
   "outputs": [],
   "source": [
    "squares_list = {i: i**2 for i in get_odd(nums_list)}"
   ]
  }
 ],
 "metadata": {
  "kernelspec": {
   "display_name": ".venv",
   "language": "python",
   "name": "python3"
  },
  "language_info": {
   "codemirror_mode": {
    "name": "ipython",
    "version": 3
   },
   "file_extension": ".py",
   "mimetype": "text/x-python",
   "name": "python",
   "nbconvert_exporter": "python",
   "pygments_lexer": "ipython3",
   "version": "3.13.1"
  }
 },
 "nbformat": 4,
 "nbformat_minor": 5
}
