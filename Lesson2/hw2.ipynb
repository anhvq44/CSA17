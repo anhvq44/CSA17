{
 "cells": [
  {
   "cell_type": "markdown",
   "id": "9a054a59",
   "metadata": {},
   "source": [
    "## Yêu cầu 1: Tạo danh sách từ 1 đến 100\n",
    "- range() trả về 1 chuỗi số dưới dạng range object\n",
    "- Sử dụng list() để đổi range object thành 1 list"
   ]
  },
  {
   "cell_type": "code",
   "execution_count": 1,
   "id": "af5724cf",
   "metadata": {},
   "outputs": [],
   "source": [
    "nums_list = list(range(1, 101))"
   ]
  },
  {
   "cell_type": "markdown",
   "id": "0083484c",
   "metadata": {},
   "source": [
    "## Yêu cầu 2: Hàm tạo danh sách mới chỉ chứa số lẻ\n",
    "- Tạo 1 list rỗng trong hàm\n",
    "- Kiểm tra từng item trong list được cho\n",
    "- Nếu n%2 == 1 thì nghĩa là n là số lẻ, thêm n vào list được tạo trong hàm"
   ]
  },
  {
   "cell_type": "code",
   "execution_count": 5,
   "id": "b63dea8d",
   "metadata": {},
   "outputs": [],
   "source": [
    "def get_odd(nums_lst):\n",
    "    res = []\n",
    "    for num in nums_lst:\n",
    "        if num%2 == 1:\n",
    "            res.append(num)\n",
    "    return res"
   ]
  },
  {
   "cell_type": "markdown",
   "id": "49ea0838",
   "metadata": {},
   "source": [
    "## Yêu cầu 3: Tạo từ điển\n",
    "- Tạo loop lặp 10 lần, từ 1 đến 10\n",
    "- Tạo khóa mới cho mỗi số và để value là bình phương của số đấy"
   ]
  },
  {
   "cell_type": "code",
   "execution_count": 8,
   "id": "8584cac3",
   "metadata": {},
   "outputs": [],
   "source": [
    "squares_list = {}\n",
    "for i in range(1, 11):\n",
    "    squares_list[i] = i**2"
   ]
  }
 ],
 "metadata": {
  "kernelspec": {
   "display_name": ".venv",
   "language": "python",
   "name": "python3"
  },
  "language_info": {
   "codemirror_mode": {
    "name": "ipython",
    "version": 3
   },
   "file_extension": ".py",
   "mimetype": "text/x-python",
   "name": "python",
   "nbconvert_exporter": "python",
   "pygments_lexer": "ipython3",
   "version": "3.13.1"
  }
 },
 "nbformat": 4,
 "nbformat_minor": 5
}
