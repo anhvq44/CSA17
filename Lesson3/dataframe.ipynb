{
 "cells": [
  {
   "cell_type": "code",
   "execution_count": 2,
   "id": "2aae4041",
   "metadata": {},
   "outputs": [],
   "source": [
    "products = {\n",
    "    \"name\": [\"Laptop\", \"Smartphone\", \"Headphones\", \"Coffee Maker\", \"Backpack\"],\n",
    "    \"price\": [1200.00, 800.00, 150.00, 90.00, 60.00],\n",
    "    \"created_day\": [\"2025-09-01\", \"2025-08-25\", \"2025-09-15\", \"2025-09-10\", \"2025-08-30\"],\n",
    "    \"category\": [\"Electronics\", \"Electronics\", \"Accessories\", \"Home Appliances\", \"Travel\"]\n",
    "}"
   ]
  },
  {
   "cell_type": "markdown",
   "id": "01f37fd1",
   "metadata": {},
   "source": [
    "## Tạo csv với pandas\n",
    "- Chuyển dữ liệu dict -> dataframe\n",
    "- Dùng hàm to_csv()"
   ]
  },
  {
   "cell_type": "code",
   "execution_count": 3,
   "id": "6f7f511f",
   "metadata": {},
   "outputs": [],
   "source": [
    "import pandas as pd\n",
    "\n",
    "df = pd.DataFrame(products)\n",
    "# File exist -> automatically rewrite the file\n",
    "df.to_csv(\"product.csv\", index=True)"
   ]
  },
  {
   "cell_type": "markdown",
   "id": "bd20c9f9",
   "metadata": {},
   "source": [
    "## Đọc csv với pandas\n",
    "- Khi trả về -> dataframe\n",
    "- Dùng các hàm hỗ trợ để in thông tin của bảng dữ liệu\n",
    "    - info()\n",
    "    - describe()\n",
    "    - shape + dtypes (bien)\n",
    "    - head() + tail()"
   ]
  },
  {
   "cell_type": "code",
   "execution_count": 7,
   "id": "a164306a",
   "metadata": {},
   "outputs": [
    {
     "name": "stdout",
     "output_type": "stream",
     "text": [
      "   Unnamed: 0          name   price created_day         category\n",
      "0           0        Laptop  1200.0  2025-09-01      Electronics\n",
      "1           1    Smartphone   800.0  2025-08-25      Electronics\n",
      "2           2    Headphones   150.0  2025-09-15      Accessories\n",
      "3           3  Coffee Maker    90.0  2025-09-10  Home Appliances\n",
      "4           4      Backpack    60.0  2025-08-30           Travel\n",
      "Info: ----------------------\n",
      "<class 'pandas.core.frame.DataFrame'>\n",
      "RangeIndex: 5 entries, 0 to 4\n",
      "Data columns (total 5 columns):\n",
      " #   Column       Non-Null Count  Dtype  \n",
      "---  ------       --------------  -----  \n",
      " 0   Unnamed: 0   5 non-null      int64  \n",
      " 1   name         5 non-null      object \n",
      " 2   price        5 non-null      float64\n",
      " 3   created_day  5 non-null      object \n",
      " 4   category     5 non-null      object \n",
      "dtypes: float64(1), int64(1), object(3)\n",
      "memory usage: 332.0+ bytes\n",
      "None\n",
      "Describe: ----------------------\n",
      "       Unnamed: 0        price\n",
      "count    5.000000     5.000000\n",
      "mean     2.000000   460.000000\n",
      "std      1.581139   513.857957\n",
      "min      0.000000    60.000000\n",
      "25%      1.000000    90.000000\n",
      "50%      2.000000   150.000000\n",
      "75%      3.000000   800.000000\n",
      "max      4.000000  1200.000000\n",
      "Shape: ----------------------\n",
      "(5, 5)\n",
      "dtypes: ----------------------\n",
      "Unnamed: 0       int64\n",
      "name            object\n",
      "price          float64\n",
      "created_day     object\n",
      "category        object\n",
      "dtype: object\n",
      "head: ----------------------\n",
      "   Unnamed: 0    name   price created_day     category\n",
      "0           0  Laptop  1200.0  2025-09-01  Electronics\n",
      "tail: ----------------------\n",
      "   Unnamed: 0          name  price created_day         category\n",
      "3           3  Coffee Maker   90.0  2025-09-10  Home Appliances\n",
      "4           4      Backpack   60.0  2025-08-30           Travel\n"
     ]
    }
   ],
   "source": [
    "try:\n",
    "    df_from_csv = pd.read_csv(\"product.csv\")\n",
    "    print(df_from_csv)\n",
    "    print(\"Info: ----------------------\")\n",
    "    print(df_from_csv.info())\n",
    "    print(\"Describe: ----------------------\")\n",
    "    print(df_from_csv.describe())\n",
    "    print(\"Shape: ----------------------\")\n",
    "    print(df_from_csv.shape)\n",
    "    print(\"dtypes: ----------------------\")\n",
    "    print(df_from_csv.dtypes)\n",
    "    print(\"head: ----------------------\")\n",
    "    print(df_from_csv.head(1))\n",
    "    print(\"tail: ----------------------\")\n",
    "    print(df_from_csv.tail(2))\n",
    "except Exception as e:\n",
    "    print(\"Error:\", e)"
   ]
  },
  {
   "cell_type": "markdown",
   "id": "f48345b1",
   "metadata": {},
   "source": [
    "# Lọc dữ liệu"
   ]
  },
  {
   "cell_type": "markdown",
   "id": "7f1bd9ef",
   "metadata": {},
   "source": [
    "## Lọc dữ liệu\n",
    "`<ten_dataframe>['<ten cot>']`"
   ]
  },
  {
   "cell_type": "code",
   "execution_count": 11,
   "id": "0663c121",
   "metadata": {},
   "outputs": [
    {
     "data": {
      "text/plain": [
       "0     True\n",
       "1     True\n",
       "2     True\n",
       "3    False\n",
       "4    False\n",
       "Name: price, dtype: bool"
      ]
     },
     "execution_count": 11,
     "metadata": {},
     "output_type": "execute_result"
    }
   ],
   "source": [
    "df_from_csv['price'] > 100.0"
   ]
  },
  {
   "cell_type": "code",
   "execution_count": 14,
   "id": "62e569e3",
   "metadata": {},
   "outputs": [
    {
     "data": {
      "text/html": [
       "<div>\n",
       "<style scoped>\n",
       "    .dataframe tbody tr th:only-of-type {\n",
       "        vertical-align: middle;\n",
       "    }\n",
       "\n",
       "    .dataframe tbody tr th {\n",
       "        vertical-align: top;\n",
       "    }\n",
       "\n",
       "    .dataframe thead th {\n",
       "        text-align: right;\n",
       "    }\n",
       "</style>\n",
       "<table border=\"1\" class=\"dataframe\">\n",
       "  <thead>\n",
       "    <tr style=\"text-align: right;\">\n",
       "      <th></th>\n",
       "      <th>price</th>\n",
       "      <th>name</th>\n",
       "    </tr>\n",
       "  </thead>\n",
       "  <tbody>\n",
       "    <tr>\n",
       "      <th>0</th>\n",
       "      <td>1200.0</td>\n",
       "      <td>Laptop</td>\n",
       "    </tr>\n",
       "    <tr>\n",
       "      <th>1</th>\n",
       "      <td>800.0</td>\n",
       "      <td>Smartphone</td>\n",
       "    </tr>\n",
       "    <tr>\n",
       "      <th>2</th>\n",
       "      <td>150.0</td>\n",
       "      <td>Headphones</td>\n",
       "    </tr>\n",
       "  </tbody>\n",
       "</table>\n",
       "</div>"
      ],
      "text/plain": [
       "    price        name\n",
       "0  1200.0      Laptop\n",
       "1   800.0  Smartphone\n",
       "2   150.0  Headphones"
      ]
     },
     "execution_count": 14,
     "metadata": {},
     "output_type": "execute_result"
    }
   ],
   "source": [
    "new_data = df_from_csv[['price', 'name']]\n",
    "new_data[df_from_csv['price']>100.0]"
   ]
  },
  {
   "cell_type": "markdown",
   "id": "da753587",
   "metadata": {},
   "source": [
    "## Lọc hàng\n",
    "- `slice [start: stop(n-1): step]`\n",
    "- Bỏ start: 0\n",
    "- Bỏ stop: length - 1\n",
    "- Bỏ step: 1"
   ]
  },
  {
   "cell_type": "code",
   "execution_count": 15,
   "id": "30308985",
   "metadata": {},
   "outputs": [
    {
     "data": {
      "text/html": [
       "<div>\n",
       "<style scoped>\n",
       "    .dataframe tbody tr th:only-of-type {\n",
       "        vertical-align: middle;\n",
       "    }\n",
       "\n",
       "    .dataframe tbody tr th {\n",
       "        vertical-align: top;\n",
       "    }\n",
       "\n",
       "    .dataframe thead th {\n",
       "        text-align: right;\n",
       "    }\n",
       "</style>\n",
       "<table border=\"1\" class=\"dataframe\">\n",
       "  <thead>\n",
       "    <tr style=\"text-align: right;\">\n",
       "      <th></th>\n",
       "      <th>Unnamed: 0</th>\n",
       "      <th>name</th>\n",
       "      <th>price</th>\n",
       "      <th>created_day</th>\n",
       "      <th>category</th>\n",
       "    </tr>\n",
       "  </thead>\n",
       "  <tbody>\n",
       "    <tr>\n",
       "      <th>0</th>\n",
       "      <td>0</td>\n",
       "      <td>Laptop</td>\n",
       "      <td>1200.0</td>\n",
       "      <td>2025-09-01</td>\n",
       "      <td>Electronics</td>\n",
       "    </tr>\n",
       "    <tr>\n",
       "      <th>1</th>\n",
       "      <td>1</td>\n",
       "      <td>Smartphone</td>\n",
       "      <td>800.0</td>\n",
       "      <td>2025-08-25</td>\n",
       "      <td>Electronics</td>\n",
       "    </tr>\n",
       "  </tbody>\n",
       "</table>\n",
       "</div>"
      ],
      "text/plain": [
       "   Unnamed: 0        name   price created_day     category\n",
       "0           0      Laptop  1200.0  2025-09-01  Electronics\n",
       "1           1  Smartphone   800.0  2025-08-25  Electronics"
      ]
     },
     "execution_count": 15,
     "metadata": {},
     "output_type": "execute_result"
    }
   ],
   "source": [
    "df_from_csv[:2]"
   ]
  },
  {
   "cell_type": "code",
   "execution_count": 16,
   "id": "0d26f676",
   "metadata": {},
   "outputs": [
    {
     "data": {
      "text/html": [
       "<div>\n",
       "<style scoped>\n",
       "    .dataframe tbody tr th:only-of-type {\n",
       "        vertical-align: middle;\n",
       "    }\n",
       "\n",
       "    .dataframe tbody tr th {\n",
       "        vertical-align: top;\n",
       "    }\n",
       "\n",
       "    .dataframe thead th {\n",
       "        text-align: right;\n",
       "    }\n",
       "</style>\n",
       "<table border=\"1\" class=\"dataframe\">\n",
       "  <thead>\n",
       "    <tr style=\"text-align: right;\">\n",
       "      <th></th>\n",
       "      <th>Unnamed: 0</th>\n",
       "      <th>name</th>\n",
       "      <th>price</th>\n",
       "      <th>created_day</th>\n",
       "      <th>category</th>\n",
       "    </tr>\n",
       "  </thead>\n",
       "  <tbody>\n",
       "    <tr>\n",
       "      <th>1</th>\n",
       "      <td>1</td>\n",
       "      <td>Smartphone</td>\n",
       "      <td>800.0</td>\n",
       "      <td>2025-08-25</td>\n",
       "      <td>Electronics</td>\n",
       "    </tr>\n",
       "    <tr>\n",
       "      <th>3</th>\n",
       "      <td>3</td>\n",
       "      <td>Coffee Maker</td>\n",
       "      <td>90.0</td>\n",
       "      <td>2025-09-10</td>\n",
       "      <td>Home Appliances</td>\n",
       "    </tr>\n",
       "  </tbody>\n",
       "</table>\n",
       "</div>"
      ],
      "text/plain": [
       "   Unnamed: 0          name  price created_day         category\n",
       "1           1    Smartphone  800.0  2025-08-25      Electronics\n",
       "3           3  Coffee Maker   90.0  2025-09-10  Home Appliances"
      ]
     },
     "execution_count": 16,
     "metadata": {},
     "output_type": "execute_result"
    }
   ],
   "source": [
    "df_from_csv[1::2]"
   ]
  }
 ],
 "metadata": {
  "kernelspec": {
   "display_name": "Python 3",
   "language": "python",
   "name": "python3"
  },
  "language_info": {
   "codemirror_mode": {
    "name": "ipython",
    "version": 3
   },
   "file_extension": ".py",
   "mimetype": "text/x-python",
   "name": "python",
   "nbconvert_exporter": "python",
   "pygments_lexer": "ipython3",
   "version": "3.13.1"
  }
 },
 "nbformat": 4,
 "nbformat_minor": 5
}
