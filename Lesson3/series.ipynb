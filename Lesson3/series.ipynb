{
 "cells": [
  {
   "cell_type": "markdown",
   "id": "dd0bb8f4",
   "metadata": {},
   "source": [
    "Tạo series:\n",
    "- C1: tạo bằng lst + index\n",
    "- C2: tạo bằng dict"
   ]
  },
  {
   "cell_type": "code",
   "execution_count": 1,
   "id": "e6104557",
   "metadata": {},
   "outputs": [],
   "source": [
    "import pandas as pd"
   ]
  },
  {
   "cell_type": "code",
   "execution_count": 17,
   "id": "3b9fe69d",
   "metadata": {},
   "outputs": [],
   "source": [
    "data = {\n",
    "    \"Hoa\": 37,\n",
    "    \"Phượng\": 38,\n",
    "    \"Nam\": 48,\n",
    "    \"Thu\": 40,\n",
    "    \"Hải\": 42,\n",
    "    \"Vũ\": 40,\n",
    "    \"Linh\": 39,\n",
    "    \"Bảo\": 43,\n",
    "    \"Nhân\": 41,\n",
    "    \"Bảo\": 100\n",
    "}"
   ]
  },
  {
   "cell_type": "code",
   "execution_count": 18,
   "id": "6a8e18ec",
   "metadata": {},
   "outputs": [],
   "source": [
    "name = data.keys()\n",
    "weight = data.values()\n",
    "series1 = pd.Series(weight, index=name)"
   ]
  },
  {
   "cell_type": "code",
   "execution_count": 19,
   "id": "d1474f29",
   "metadata": {},
   "outputs": [
    {
     "data": {
      "text/plain": [
       "count      9.000000\n",
       "mean      47.222222\n",
       "std       20.042316\n",
       "min       37.000000\n",
       "25%       39.000000\n",
       "50%       40.000000\n",
       "75%       42.000000\n",
       "max      100.000000\n",
       "dtype: float64"
      ]
     },
     "execution_count": 19,
     "metadata": {},
     "output_type": "execute_result"
    }
   ],
   "source": [
    "series2 = pd.Series(data)\n",
    "series2.describe()"
   ]
  },
  {
   "cell_type": "markdown",
   "id": "a85a319b",
   "metadata": {},
   "source": [
    "### mean - trung bình cộng:\n",
    "- Dễ bị ảnh hưởng bởi `giá trị ngoại lai (outlider)`\n",
    "- Tổng/số dữ liệu"
   ]
  },
  {
   "cell_type": "code",
   "execution_count": null,
   "id": "1c387bb9",
   "metadata": {},
   "outputs": [
    {
     "data": {
      "text/plain": [
       "np.float64(47.22222222222222)"
      ]
     },
     "execution_count": 20,
     "metadata": {},
     "output_type": "execute_result"
    }
   ],
   "source": [
    "series2.mean() #type: float64"
   ]
  },
  {
   "cell_type": "markdown",
   "id": "2bfcf0a9",
   "metadata": {},
   "source": [
    "### median - trung vị:\n",
    "- Dữ liệu ở giữa sau khi dữ liệu đã **được sắp xếp**\n",
    "- Nếu có n dữ liệu chẵn -> trung bình cộng 2 số ở giữa\n",
    "- `Ít bị ảnh hưởng bởi outlier.`"
   ]
  },
  {
   "cell_type": "code",
   "execution_count": null,
   "id": "7d83ce1a",
   "metadata": {},
   "outputs": [
    {
     "data": {
      "text/plain": [
       "np.float64(40.0)"
      ]
     },
     "execution_count": 21,
     "metadata": {},
     "output_type": "execute_result"
    }
   ],
   "source": [
    "series2.median() #type: float64"
   ]
  },
  {
   "cell_type": "markdown",
   "id": "0d863862",
   "metadata": {},
   "source": [
    "### mode - giá trị xuất hiện nhiều nhất:\n",
    "- Giá trị nào xuất hiện với tấn số cao nhất\n",
    "- **Có thể có nhiều giá trị được trả về**\n",
    "- `Lấy giá trị phổ biến nhất`"
   ]
  },
  {
   "cell_type": "code",
   "execution_count": null,
   "id": "310659bd",
   "metadata": {},
   "outputs": [
    {
     "data": {
      "text/plain": [
       "0    40\n",
       "dtype: int64"
      ]
     },
     "execution_count": 22,
     "metadata": {},
     "output_type": "execute_result"
    }
   ],
   "source": [
    "series2.mode() #type: pandas.Series"
   ]
  }
 ],
 "metadata": {
  "kernelspec": {
   "display_name": "Python 3",
   "language": "python",
   "name": "python3"
  },
  "language_info": {
   "codemirror_mode": {
    "name": "ipython",
    "version": 3
   },
   "file_extension": ".py",
   "mimetype": "text/x-python",
   "name": "python",
   "nbconvert_exporter": "python",
   "pygments_lexer": "ipython3",
   "version": "3.13.1"
  }
 },
 "nbformat": 4,
 "nbformat_minor": 5
}
