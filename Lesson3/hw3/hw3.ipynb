{
 "cells": [
  {
   "cell_type": "code",
   "execution_count": 2,
   "id": "f2636276",
   "metadata": {},
   "outputs": [],
   "source": [
    "import pandas as pd\n",
    "\n",
    "try:\n",
    "    df_hw3 = pd.read_csv(\"hw3_data.csv\")\n",
    "except Exception as e:\n",
    "    print(f\"Error: {e}\")"
   ]
  },
  {
   "cell_type": "markdown",
   "id": "1a3a0315",
   "metadata": {},
   "source": [
    "### Câu hỏi 1: Số người trên 30t"
   ]
  },
  {
   "cell_type": "code",
   "execution_count": 6,
   "id": "476553bc",
   "metadata": {},
   "outputs": [
    {
     "name": "stdout",
     "output_type": "stream",
     "text": [
      "Số người trên 30 tuổi: 3\n"
     ]
    }
   ],
   "source": [
    "count_over_30 = len(df_hw3.loc[df_hw3['Age'] > 30, :])\n",
    "print(\"Số người trên 30 tuổi:\", count_over_30)"
   ]
  },
  {
   "cell_type": "markdown",
   "id": "ee829676",
   "metadata": {},
   "source": [
    "### Câu hỏi 2: Tổng tiền lương của tất cả"
   ]
  },
  {
   "cell_type": "code",
   "execution_count": 8,
   "id": "3f4fbb30",
   "metadata": {},
   "outputs": [
    {
     "data": {
      "text/plain": [
       "Salary    430000\n",
       "dtype: int64"
      ]
     },
     "execution_count": 8,
     "metadata": {},
     "output_type": "execute_result"
    }
   ],
   "source": [
    "total_salary = df_hw3.iloc[:, 3:].sum()\n",
    "total_salary"
   ]
  },
  {
   "cell_type": "markdown",
   "id": "61c8d4ee",
   "metadata": {},
   "source": [
    "### Câu hỏi 3: Lương lớn hơn 50000 và tuổi nhỏ hơn 40"
   ]
  },
  {
   "cell_type": "code",
   "execution_count": 9,
   "id": "082e71bf",
   "metadata": {},
   "outputs": [
    {
     "name": "stdout",
     "output_type": "stream",
     "text": [
      "Số người lương cao hơn 50000 và tuổi dưới 40: 4\n"
     ]
    }
   ],
   "source": [
    "count = len(df_hw3.loc[(df_hw3['Salary'] > 50000) & (df_hw3['Age'] < 40), :])\n",
    "print(\"Số người lương cao hơn 50000 và tuổi dưới 40:\", count)"
   ]
  },
  {
   "cell_type": "markdown",
   "id": "64cbd96c",
   "metadata": {},
   "source": [
    "## Dấu bitwise\n",
    "- & (and)\n",
    "- | (or)\n",
    "- ~ (not)"
   ]
  }
 ],
 "metadata": {
  "kernelspec": {
   "display_name": "Python 3",
   "language": "python",
   "name": "python3"
  },
  "language_info": {
   "codemirror_mode": {
    "name": "ipython",
    "version": 3
   },
   "file_extension": ".py",
   "mimetype": "text/x-python",
   "name": "python",
   "nbconvert_exporter": "python",
   "pygments_lexer": "ipython3",
   "version": "3.13.1"
  }
 },
 "nbformat": 4,
 "nbformat_minor": 5
}
