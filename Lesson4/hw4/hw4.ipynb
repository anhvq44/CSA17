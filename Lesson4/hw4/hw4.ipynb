{
 "cells": [
  {
   "cell_type": "code",
   "execution_count": 39,
   "id": "62c5c0a1",
   "metadata": {},
   "outputs": [],
   "source": [
    "import pandas as pd\n",
    "df = pd.read_csv(\"yob2010.txt\", names=[\"Name\", \"Gender\", \"ID\"])"
   ]
  },
  {
   "cell_type": "markdown",
   "id": "8265d6d2",
   "metadata": {},
   "source": [
    "## Câu hỏi 1"
   ]
  },
  {
   "cell_type": "code",
   "execution_count": 40,
   "id": "2f501a43",
   "metadata": {},
   "outputs": [
    {
     "data": {
      "text/plain": [
       "Gender\n",
       "F    19699\n",
       "M    14139\n",
       "Name: Name, dtype: int64"
      ]
     },
     "execution_count": 40,
     "metadata": {},
     "output_type": "execute_result"
    }
   ],
   "source": [
    "group_by_gender = df.groupby(\"Gender\")\n",
    "total_by_gender = group_by_gender['Name'].count()\n",
    "total_by_gender"
   ]
  },
  {
   "cell_type": "markdown",
   "id": "155ea2f5",
   "metadata": {},
   "source": [
    "## Câu hỏi 2"
   ]
  },
  {
   "cell_type": "code",
   "execution_count": 41,
   "id": "c1a24784",
   "metadata": {},
   "outputs": [
    {
     "data": {
      "text/plain": [
       "Name\n",
       "Isabella    3\n",
       "Sophia      1\n",
       "Emma        1\n",
       "Olivia      1\n",
       "Ava         1\n",
       "Emily       1\n",
       "Abigail     1\n",
       "Madison     1\n",
       "Chloe       1\n",
       "Mia         1\n",
       "Name: count, dtype: int64"
      ]
     },
     "execution_count": 41,
     "metadata": {},
     "output_type": "execute_result"
    }
   ],
   "source": [
    "#Female\n",
    "df[df['Gender'] == 'F'][\"Name\"].value_counts().head(10)"
   ]
  },
  {
   "cell_type": "code",
   "execution_count": 42,
   "id": "e43a680a",
   "metadata": {},
   "outputs": [
    {
     "data": {
      "text/plain": [
       "Name\n",
       "Jacob        1\n",
       "Ethan        1\n",
       "Michael      1\n",
       "Jayden       1\n",
       "William      1\n",
       "Alexander    1\n",
       "Noah         1\n",
       "Daniel       1\n",
       "Aiden        1\n",
       "Anthony      1\n",
       "Name: count, dtype: int64"
      ]
     },
     "execution_count": 42,
     "metadata": {},
     "output_type": "execute_result"
    }
   ],
   "source": [
    "#Male\n",
    "df[df['Gender'] == 'M'][\"Name\"].value_counts().head(10)"
   ]
  }
 ],
 "metadata": {
  "kernelspec": {
   "display_name": "Python 3",
   "language": "python",
   "name": "python3"
  },
  "language_info": {
   "codemirror_mode": {
    "name": "ipython",
    "version": 3
   },
   "file_extension": ".py",
   "mimetype": "text/x-python",
   "name": "python",
   "nbconvert_exporter": "python",
   "pygments_lexer": "ipython3",
   "version": "3.13.1"
  }
 },
 "nbformat": 4,
 "nbformat_minor": 5
}
